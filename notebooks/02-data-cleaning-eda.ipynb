{
 "cells": [
  {
   "cell_type": "markdown",
   "metadata": {},
   "source": [
    "# Data Cleaning, EDA"
   ]
  },
  {
   "cell_type": "code",
   "execution_count": 142,
   "metadata": {},
   "outputs": [
    {
     "name": "stderr",
     "output_type": "stream",
     "text": [
      "/Library/Frameworks/Python.framework/Versions/3.6/lib/python3.6/site-packages/IPython/core/interactiveshell.py:2728: DtypeWarning: Columns (18,26,34,45) have mixed types. Specify dtype option on import or set low_memory=False.\n",
      "  interactivity=interactivity, compiler=compiler, result=result)\n"
     ]
    },
    {
     "data": {
      "text/html": [
       "<div>\n",
       "<style scoped>\n",
       "    .dataframe tbody tr th:only-of-type {\n",
       "        vertical-align: middle;\n",
       "    }\n",
       "\n",
       "    .dataframe tbody tr th {\n",
       "        vertical-align: top;\n",
       "    }\n",
       "\n",
       "    .dataframe thead th {\n",
       "        text-align: right;\n",
       "    }\n",
       "</style>\n",
       "<table border=\"1\" class=\"dataframe\">\n",
       "  <thead>\n",
       "    <tr style=\"text-align: right;\">\n",
       "      <th></th>\n",
       "      <th>access_code</th>\n",
       "      <th>access_days_time</th>\n",
       "      <th>access_days_time_fr</th>\n",
       "      <th>access_detail_code</th>\n",
       "      <th>bd_blends</th>\n",
       "      <th>bd_blends_fr</th>\n",
       "      <th>cards_accepted</th>\n",
       "      <th>city</th>\n",
       "      <th>country</th>\n",
       "      <th>date_last_confirmed</th>\n",
       "      <th>...</th>\n",
       "      <th>open_date</th>\n",
       "      <th>owner_type_code</th>\n",
       "      <th>plus4</th>\n",
       "      <th>state</th>\n",
       "      <th>station_name</th>\n",
       "      <th>station_phone</th>\n",
       "      <th>status_code</th>\n",
       "      <th>street_address</th>\n",
       "      <th>updated_at</th>\n",
       "      <th>zip</th>\n",
       "    </tr>\n",
       "  </thead>\n",
       "  <tbody>\n",
       "    <tr>\n",
       "      <th>0</th>\n",
       "      <td>private</td>\n",
       "      <td>NaN</td>\n",
       "      <td>NaN</td>\n",
       "      <td>NaN</td>\n",
       "      <td>NaN</td>\n",
       "      <td>NaN</td>\n",
       "      <td>NaN</td>\n",
       "      <td>Montgomery</td>\n",
       "      <td>US</td>\n",
       "      <td>2019-04-08</td>\n",
       "      <td>...</td>\n",
       "      <td>2010-12-01</td>\n",
       "      <td>T</td>\n",
       "      <td>NaN</td>\n",
       "      <td>AL</td>\n",
       "      <td>Alagasco - Montgomery Operations Center</td>\n",
       "      <td>NaN</td>\n",
       "      <td>E</td>\n",
       "      <td>2951 Chestnut St</td>\n",
       "      <td>2019-04-08T17:32:59Z</td>\n",
       "      <td>36107</td>\n",
       "    </tr>\n",
       "    <tr>\n",
       "      <th>1</th>\n",
       "      <td>public</td>\n",
       "      <td>24 hours daily</td>\n",
       "      <td>NaN</td>\n",
       "      <td>CREDIT_CARD_ALWAYS</td>\n",
       "      <td>NaN</td>\n",
       "      <td>NaN</td>\n",
       "      <td>A Comdata FleetOne FuelMan M V Voyager Wright_Exp</td>\n",
       "      <td>Atlanta</td>\n",
       "      <td>US</td>\n",
       "      <td>2018-11-08</td>\n",
       "      <td>...</td>\n",
       "      <td>1994-07-15</td>\n",
       "      <td>P</td>\n",
       "      <td>NaN</td>\n",
       "      <td>GA</td>\n",
       "      <td>PS Energy - Atlanta</td>\n",
       "      <td>770-350-3000</td>\n",
       "      <td>E</td>\n",
       "      <td>340 Whitehall St</td>\n",
       "      <td>2019-01-17T00:33:46Z</td>\n",
       "      <td>30303</td>\n",
       "    </tr>\n",
       "    <tr>\n",
       "      <th>2</th>\n",
       "      <td>private</td>\n",
       "      <td>NaN</td>\n",
       "      <td>NaN</td>\n",
       "      <td>GOVERNMENT</td>\n",
       "      <td>NaN</td>\n",
       "      <td>NaN</td>\n",
       "      <td>NaN</td>\n",
       "      <td>Atlanta</td>\n",
       "      <td>US</td>\n",
       "      <td>2018-10-04</td>\n",
       "      <td>...</td>\n",
       "      <td>1996-12-15</td>\n",
       "      <td>LG</td>\n",
       "      <td>NaN</td>\n",
       "      <td>GA</td>\n",
       "      <td>Metropolitan Atlanta Rapid Transit Authority</td>\n",
       "      <td>NaN</td>\n",
       "      <td>E</td>\n",
       "      <td>2424 Piedmont Rd NE</td>\n",
       "      <td>2019-01-17T00:33:46Z</td>\n",
       "      <td>30324</td>\n",
       "    </tr>\n",
       "    <tr>\n",
       "      <th>3</th>\n",
       "      <td>private</td>\n",
       "      <td>NaN</td>\n",
       "      <td>NaN</td>\n",
       "      <td>NaN</td>\n",
       "      <td>NaN</td>\n",
       "      <td>NaN</td>\n",
       "      <td>NaN</td>\n",
       "      <td>Atlanta</td>\n",
       "      <td>US</td>\n",
       "      <td>2018-05-03</td>\n",
       "      <td>...</td>\n",
       "      <td>1997-01-01</td>\n",
       "      <td>P</td>\n",
       "      <td>NaN</td>\n",
       "      <td>GA</td>\n",
       "      <td>United Parcel Service</td>\n",
       "      <td>NaN</td>\n",
       "      <td>E</td>\n",
       "      <td>270 Marvin Miller Dr</td>\n",
       "      <td>2019-01-17T00:33:46Z</td>\n",
       "      <td>30336</td>\n",
       "    </tr>\n",
       "    <tr>\n",
       "      <th>4</th>\n",
       "      <td>public</td>\n",
       "      <td>24 hours daily; call 866-809-4869 for Clean En...</td>\n",
       "      <td>NaN</td>\n",
       "      <td>CREDIT_CARD_ALWAYS</td>\n",
       "      <td>NaN</td>\n",
       "      <td>NaN</td>\n",
       "      <td>CleanEnergy D FuelMan M V Voyager Wright_Exp</td>\n",
       "      <td>Houston</td>\n",
       "      <td>US</td>\n",
       "      <td>2018-07-09</td>\n",
       "      <td>...</td>\n",
       "      <td>1996-12-15</td>\n",
       "      <td>P</td>\n",
       "      <td>NaN</td>\n",
       "      <td>TX</td>\n",
       "      <td>Clean Energy - Texas Department of Transportation</td>\n",
       "      <td>866-809-4869</td>\n",
       "      <td>E</td>\n",
       "      <td>7721A Washington St</td>\n",
       "      <td>2019-01-17T00:33:46Z</td>\n",
       "      <td>77007</td>\n",
       "    </tr>\n",
       "  </tbody>\n",
       "</table>\n",
       "<p>5 rows × 46 columns</p>\n",
       "</div>"
      ],
      "text/plain": [
       "  access_code                                   access_days_time  \\\n",
       "0     private                                                NaN   \n",
       "1      public                                     24 hours daily   \n",
       "2     private                                                NaN   \n",
       "3     private                                                NaN   \n",
       "4      public  24 hours daily; call 866-809-4869 for Clean En...   \n",
       "\n",
       "   access_days_time_fr  access_detail_code bd_blends  bd_blends_fr  \\\n",
       "0                  NaN                 NaN       NaN           NaN   \n",
       "1                  NaN  CREDIT_CARD_ALWAYS       NaN           NaN   \n",
       "2                  NaN          GOVERNMENT       NaN           NaN   \n",
       "3                  NaN                 NaN       NaN           NaN   \n",
       "4                  NaN  CREDIT_CARD_ALWAYS       NaN           NaN   \n",
       "\n",
       "                                      cards_accepted        city country  \\\n",
       "0                                                NaN  Montgomery      US   \n",
       "1  A Comdata FleetOne FuelMan M V Voyager Wright_Exp     Atlanta      US   \n",
       "2                                                NaN     Atlanta      US   \n",
       "3                                                NaN     Atlanta      US   \n",
       "4       CleanEnergy D FuelMan M V Voyager Wright_Exp     Houston      US   \n",
       "\n",
       "  date_last_confirmed  ...   open_date owner_type_code  plus4  state  \\\n",
       "0          2019-04-08  ...  2010-12-01               T    NaN     AL   \n",
       "1          2018-11-08  ...  1994-07-15               P    NaN     GA   \n",
       "2          2018-10-04  ...  1996-12-15              LG    NaN     GA   \n",
       "3          2018-05-03  ...  1997-01-01               P    NaN     GA   \n",
       "4          2018-07-09  ...  1996-12-15               P    NaN     TX   \n",
       "\n",
       "                                        station_name station_phone  \\\n",
       "0            Alagasco - Montgomery Operations Center           NaN   \n",
       "1                                PS Energy - Atlanta  770-350-3000   \n",
       "2       Metropolitan Atlanta Rapid Transit Authority           NaN   \n",
       "3                              United Parcel Service           NaN   \n",
       "4  Clean Energy - Texas Department of Transportation  866-809-4869   \n",
       "\n",
       "  status_code        street_address            updated_at    zip  \n",
       "0           E      2951 Chestnut St  2019-04-08T17:32:59Z  36107  \n",
       "1           E      340 Whitehall St  2019-01-17T00:33:46Z  30303  \n",
       "2           E   2424 Piedmont Rd NE  2019-01-17T00:33:46Z  30324  \n",
       "3           E  270 Marvin Miller Dr  2019-01-17T00:33:46Z  30336  \n",
       "4           E   7721A Washington St  2019-01-17T00:33:46Z  77007  \n",
       "\n",
       "[5 rows x 46 columns]"
      ]
     },
     "execution_count": 142,
     "metadata": {},
     "output_type": "execute_result"
    }
   ],
   "source": [
    "import pandas as pd\n",
    "import numpy as np\n",
    "import matplotlib.pyplot as plt\n",
    "import seaborn as sns\n",
    "from ipywidgets import interact\n",
    "import ipywidgets as widgets\n",
    "import folium\n",
    "%matplotlib inline\n",
    "\n",
    "stations = pd.read_csv(\"../data/fuel-stations.csv\")\n",
    "stations.head()"
   ]
  },
  {
   "cell_type": "code",
   "execution_count": 93,
   "metadata": {},
   "outputs": [
    {
     "data": {
      "text/plain": [
       "Unnamed: 0                        0\n",
       "access_code                       0\n",
       "access_days_time               3255\n",
       "access_days_time_fr           34300\n",
       "access_detail_code            28219\n",
       "bd_blends                     33609\n",
       "bd_blends_fr                  34300\n",
       "cards_accepted                26105\n",
       "city                              0\n",
       "country                           0\n",
       "date_last_confirmed              14\n",
       "e85_blender_pump              30500\n",
       "ev_connector_types             9767\n",
       "ev_dc_fast_num                31449\n",
       "ev_level1_evse_num            33304\n",
       "ev_level2_evse_num            11954\n",
       "ev_network                    16673\n",
       "ev_network_ids                20702\n",
       "ev_network_web                16673\n",
       "ev_other_evse                 34239\n",
       "expected_date                 34076\n",
       "federal_agency                33525\n",
       "fuel_type_code                    0\n",
       "geocode_status                    6\n",
       "groups_with_access_code           0\n",
       "groups_with_access_code_fr        0\n",
       "hy_is_retail                  34206\n",
       "hy_status_link                34259\n",
       "id                                0\n",
       "intersection_directions       20925\n",
       "intersection_directions_fr    34300\n",
       "latitude                          0\n",
       "longitude                         0\n",
       "lpg_primary                   31154\n",
       "ng_fill_type_code             32678\n",
       "ng_psi                        32677\n",
       "ng_vehicle_class              32486\n",
       "open_date                     16109\n",
       "owner_type_code               12983\n",
       "plus4                         34300\n",
       "state                             0\n",
       "station_name                      0\n",
       "station_phone                  3115\n",
       "status_code                       0\n",
       "street_address                    8\n",
       "updated_at                        0\n",
       "zip                               0\n",
       "dtype: int64"
      ]
     },
     "execution_count": 93,
     "metadata": {},
     "output_type": "execute_result"
    }
   ],
   "source": [
    "stations.isna().sum()"
   ]
  },
  {
   "cell_type": "code",
   "execution_count": 94,
   "metadata": {},
   "outputs": [],
   "source": [
    "# want to find best center by minimizing average distance"
   ]
  },
  {
   "cell_type": "code",
   "execution_count": 95,
   "metadata": {},
   "outputs": [
    {
     "data": {
      "text/plain": [
       "103.90681857383416"
      ]
     },
     "execution_count": 95,
     "metadata": {},
     "output_type": "execute_result"
    }
   ],
   "source": [
    "def distance(p0, p1):\n",
    "    return ((p1[0] - p0[0])**2 + (p1[1] - p0[1])**2)**0.5\n",
    "\n",
    "def avg_distance(pt, coords):\n",
    "    n = len(coords)\n",
    "    psum = 0\n",
    "    for i in range(n):\n",
    "        psum += distance(pt, coords[i])\n",
    "    return psum / n\n",
    "\n",
    "coordinates = [[stations.loc[i,\"latitude\"], stations.loc[i,\"longitude\"]] for i in stations.index]\n",
    "\n",
    "# test these\n",
    "avg_distance([0,0], coordinates)"
   ]
  },
  {
   "cell_type": "code",
   "execution_count": 96,
   "metadata": {},
   "outputs": [],
   "source": [
    "from scipy.optimize import minimize"
   ]
  },
  {
   "cell_type": "code",
   "execution_count": 97,
   "metadata": {},
   "outputs": [
    {
     "data": {
      "text/plain": [
       "array([ 38.01471044, -92.00810207])"
      ]
     },
     "execution_count": 97,
     "metadata": {},
     "output_type": "execute_result"
    }
   ],
   "source": [
    "center = minimize(avg_distance, [0,0], args=(coordinates)).x\n",
    "center"
   ]
  },
  {
   "cell_type": "code",
   "execution_count": 98,
   "metadata": {},
   "outputs": [
    {
     "data": {
      "text/html": [
       "<div style=\"width:100%;\"><div style=\"position:relative;width:100%;height:0;padding-bottom:60%;\"><iframe src=\"data:text/html;base64,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\" style=\"position:absolute;width:100%;height:100%;left:0;top:0;\"></iframe></div></div>"
      ],
      "text/plain": [
       "<folium.folium.Map at 0x11a6bf630>"
      ]
     },
     "execution_count": 98,
     "metadata": {},
     "output_type": "execute_result"
    }
   ],
   "source": [
    "# initialize map\n",
    "max_lat, min_lat = max(stations[\"latitude\"]), min(stations[\"latitude\"])\n",
    "max_lon, min_lon = max(stations[\"longitude\"]), min(stations[\"longitude\"])\n",
    "\n",
    "stations_map = folium.Map(location = list(center))\n",
    "stations_map"
   ]
  },
  {
   "cell_type": "code",
   "execution_count": 99,
   "metadata": {},
   "outputs": [],
   "source": [
    "# for i in range(stations.shape[0]):\n",
    "#     folium.Marker(coordinates[i], popup=stations.iloc[i].loc[\"station_name\"]).add_to(stations_map)\n",
    "# stations_map.save(\"../output/maps.html\")"
   ]
  },
  {
   "cell_type": "code",
   "execution_count": 100,
   "metadata": {},
   "outputs": [
    {
     "data": {
      "text/plain": [
       "array(['CNG', 'E85', 'ELEC', 'LNG', 'LPG', 'BD', 'HY'], dtype=object)"
      ]
     },
     "execution_count": 100,
     "metadata": {},
     "output_type": "execute_result"
    }
   ],
   "source": [
    "stations[\"fuel_type_code\"].unique()"
   ]
  },
  {
   "cell_type": "code",
   "execution_count": null,
   "metadata": {},
   "outputs": [],
   "source": []
  },
  {
   "cell_type": "code",
   "execution_count": null,
   "metadata": {},
   "outputs": [],
   "source": []
  },
  {
   "cell_type": "code",
   "execution_count": null,
   "metadata": {},
   "outputs": [],
   "source": []
  },
  {
   "cell_type": "code",
   "execution_count": null,
   "metadata": {},
   "outputs": [],
   "source": []
  },
  {
   "cell_type": "code",
   "execution_count": null,
   "metadata": {},
   "outputs": [],
   "source": []
  }
 ],
 "metadata": {
  "kernelspec": {
   "display_name": "Python 3",
   "language": "python",
   "name": "python3"
  },
  "language_info": {
   "codemirror_mode": {
    "name": "ipython",
    "version": 3
   },
   "file_extension": ".py",
   "mimetype": "text/x-python",
   "name": "python",
   "nbconvert_exporter": "python",
   "pygments_lexer": "ipython3",
   "version": "3.6.5"
  },
  "notify_time": "5"
 },
 "nbformat": 4,
 "nbformat_minor": 2
}
