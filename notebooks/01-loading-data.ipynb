{
 "cells": [
  {
   "cell_type": "markdown",
   "metadata": {},
   "source": [
    "# Loading Data\n",
    "\n",
    "2019-05-31 15:57:46 "
   ]
  },
  {
   "cell_type": "code",
   "execution_count": null,
   "metadata": {},
   "outputs": [],
   "source": []
  },
  {
   "cell_type": "code",
   "execution_count": 8,
   "metadata": {
    "init_cell": true
   },
   "outputs": [],
   "source": [
    "import config, requests, json\n",
    "import xml.etree.ElementTree as ET\n",
    "import pandas as pd\n",
    "import numpy as np"
   ]
  },
  {
   "cell_type": "code",
   "execution_count": 2,
   "metadata": {},
   "outputs": [],
   "source": [
    "base_url = \"https://developer.nrel.gov/api/alt-fuel-stations/v1\"\n",
    "sample_query = {\n",
    "    \"format\" : \"json\",\n",
    "    \"api_key\" : config.api_key\n",
    "}"
   ]
  },
  {
   "cell_type": "code",
   "execution_count": 3,
   "metadata": {},
   "outputs": [],
   "source": [
    "response_text = requests.get(base_url, sample_query).text"
   ]
  },
  {
   "cell_type": "code",
   "execution_count": 4,
   "metadata": {},
   "outputs": [
    {
     "data": {
      "text/plain": [
       "dict_keys(['station_locator_url', 'total_results', 'station_counts', 'fuel_stations'])"
      ]
     },
     "execution_count": 4,
     "metadata": {},
     "output_type": "execute_result"
    }
   ],
   "source": [
    "response = json.loads(response_text)\n",
    "response.keys()"
   ]
  },
  {
   "cell_type": "code",
   "execution_count": 5,
   "metadata": {},
   "outputs": [
    {
     "data": {
      "text/plain": [
       "True"
      ]
     },
     "execution_count": 5,
     "metadata": {},
     "output_type": "execute_result"
    }
   ],
   "source": [
    "# sanity check\n",
    "response[\"total_results\"] == len(response[\"fuel_stations\"])"
   ]
  },
  {
   "cell_type": "code",
   "execution_count": 6,
   "metadata": {},
   "outputs": [
    {
     "data": {
      "text/html": [
       "<div>\n",
       "<style scoped>\n",
       "    .dataframe tbody tr th:only-of-type {\n",
       "        vertical-align: middle;\n",
       "    }\n",
       "\n",
       "    .dataframe tbody tr th {\n",
       "        vertical-align: top;\n",
       "    }\n",
       "\n",
       "    .dataframe thead th {\n",
       "        text-align: right;\n",
       "    }\n",
       "</style>\n",
       "<table border=\"1\" class=\"dataframe\">\n",
       "  <thead>\n",
       "    <tr style=\"text-align: right;\">\n",
       "      <th></th>\n",
       "      <th>access_code</th>\n",
       "      <th>access_days_time</th>\n",
       "      <th>access_days_time_fr</th>\n",
       "      <th>access_detail_code</th>\n",
       "      <th>bd_blends</th>\n",
       "      <th>bd_blends_fr</th>\n",
       "      <th>cards_accepted</th>\n",
       "      <th>city</th>\n",
       "      <th>country</th>\n",
       "      <th>date_last_confirmed</th>\n",
       "      <th>...</th>\n",
       "      <th>open_date</th>\n",
       "      <th>owner_type_code</th>\n",
       "      <th>plus4</th>\n",
       "      <th>state</th>\n",
       "      <th>station_name</th>\n",
       "      <th>station_phone</th>\n",
       "      <th>status_code</th>\n",
       "      <th>street_address</th>\n",
       "      <th>updated_at</th>\n",
       "      <th>zip</th>\n",
       "    </tr>\n",
       "  </thead>\n",
       "  <tbody>\n",
       "    <tr>\n",
       "      <th>0</th>\n",
       "      <td>private</td>\n",
       "      <td>None</td>\n",
       "      <td>None</td>\n",
       "      <td>None</td>\n",
       "      <td>None</td>\n",
       "      <td>None</td>\n",
       "      <td>None</td>\n",
       "      <td>Montgomery</td>\n",
       "      <td>US</td>\n",
       "      <td>2019-04-08</td>\n",
       "      <td>...</td>\n",
       "      <td>2010-12-01</td>\n",
       "      <td>T</td>\n",
       "      <td>None</td>\n",
       "      <td>AL</td>\n",
       "      <td>Alagasco - Montgomery Operations Center</td>\n",
       "      <td>None</td>\n",
       "      <td>E</td>\n",
       "      <td>2951 Chestnut St</td>\n",
       "      <td>2019-04-08T17:32:59Z</td>\n",
       "      <td>36107</td>\n",
       "    </tr>\n",
       "    <tr>\n",
       "      <th>1</th>\n",
       "      <td>public</td>\n",
       "      <td>24 hours daily</td>\n",
       "      <td>None</td>\n",
       "      <td>CREDIT_CARD_ALWAYS</td>\n",
       "      <td>None</td>\n",
       "      <td>None</td>\n",
       "      <td>A Comdata FleetOne FuelMan M V Voyager Wright_Exp</td>\n",
       "      <td>Atlanta</td>\n",
       "      <td>US</td>\n",
       "      <td>2018-11-08</td>\n",
       "      <td>...</td>\n",
       "      <td>1994-07-15</td>\n",
       "      <td>P</td>\n",
       "      <td>None</td>\n",
       "      <td>GA</td>\n",
       "      <td>PS Energy - Atlanta</td>\n",
       "      <td>770-350-3000</td>\n",
       "      <td>E</td>\n",
       "      <td>340 Whitehall St</td>\n",
       "      <td>2019-01-17T00:33:46Z</td>\n",
       "      <td>30303</td>\n",
       "    </tr>\n",
       "    <tr>\n",
       "      <th>2</th>\n",
       "      <td>private</td>\n",
       "      <td>None</td>\n",
       "      <td>None</td>\n",
       "      <td>GOVERNMENT</td>\n",
       "      <td>None</td>\n",
       "      <td>None</td>\n",
       "      <td>None</td>\n",
       "      <td>Atlanta</td>\n",
       "      <td>US</td>\n",
       "      <td>2018-10-04</td>\n",
       "      <td>...</td>\n",
       "      <td>1996-12-15</td>\n",
       "      <td>LG</td>\n",
       "      <td>None</td>\n",
       "      <td>GA</td>\n",
       "      <td>Metropolitan Atlanta Rapid Transit Authority</td>\n",
       "      <td>None</td>\n",
       "      <td>E</td>\n",
       "      <td>2424 Piedmont Rd NE</td>\n",
       "      <td>2019-01-17T00:33:46Z</td>\n",
       "      <td>30324</td>\n",
       "    </tr>\n",
       "    <tr>\n",
       "      <th>3</th>\n",
       "      <td>private</td>\n",
       "      <td>None</td>\n",
       "      <td>None</td>\n",
       "      <td>None</td>\n",
       "      <td>None</td>\n",
       "      <td>None</td>\n",
       "      <td>None</td>\n",
       "      <td>Atlanta</td>\n",
       "      <td>US</td>\n",
       "      <td>2018-05-03</td>\n",
       "      <td>...</td>\n",
       "      <td>1997-01-01</td>\n",
       "      <td>P</td>\n",
       "      <td>None</td>\n",
       "      <td>GA</td>\n",
       "      <td>United Parcel Service</td>\n",
       "      <td>None</td>\n",
       "      <td>E</td>\n",
       "      <td>270 Marvin Miller Dr</td>\n",
       "      <td>2019-01-17T00:33:46Z</td>\n",
       "      <td>30336</td>\n",
       "    </tr>\n",
       "    <tr>\n",
       "      <th>4</th>\n",
       "      <td>public</td>\n",
       "      <td>24 hours daily; call 866-809-4869 for Clean En...</td>\n",
       "      <td>None</td>\n",
       "      <td>CREDIT_CARD_ALWAYS</td>\n",
       "      <td>None</td>\n",
       "      <td>None</td>\n",
       "      <td>CleanEnergy D FuelMan M V Voyager Wright_Exp</td>\n",
       "      <td>Houston</td>\n",
       "      <td>US</td>\n",
       "      <td>2018-07-09</td>\n",
       "      <td>...</td>\n",
       "      <td>1996-12-15</td>\n",
       "      <td>P</td>\n",
       "      <td>None</td>\n",
       "      <td>TX</td>\n",
       "      <td>Clean Energy - Texas Department of Transportation</td>\n",
       "      <td>866-809-4869</td>\n",
       "      <td>E</td>\n",
       "      <td>7721A Washington St</td>\n",
       "      <td>2019-01-17T00:33:46Z</td>\n",
       "      <td>77007</td>\n",
       "    </tr>\n",
       "  </tbody>\n",
       "</table>\n",
       "<p>5 rows × 46 columns</p>\n",
       "</div>"
      ],
      "text/plain": [
       "  access_code                                   access_days_time  \\\n",
       "0     private                                               None   \n",
       "1      public                                     24 hours daily   \n",
       "2     private                                               None   \n",
       "3     private                                               None   \n",
       "4      public  24 hours daily; call 866-809-4869 for Clean En...   \n",
       "\n",
       "  access_days_time_fr  access_detail_code bd_blends bd_blends_fr  \\\n",
       "0                None                None      None         None   \n",
       "1                None  CREDIT_CARD_ALWAYS      None         None   \n",
       "2                None          GOVERNMENT      None         None   \n",
       "3                None                None      None         None   \n",
       "4                None  CREDIT_CARD_ALWAYS      None         None   \n",
       "\n",
       "                                      cards_accepted        city country  \\\n",
       "0                                               None  Montgomery      US   \n",
       "1  A Comdata FleetOne FuelMan M V Voyager Wright_Exp     Atlanta      US   \n",
       "2                                               None     Atlanta      US   \n",
       "3                                               None     Atlanta      US   \n",
       "4       CleanEnergy D FuelMan M V Voyager Wright_Exp     Houston      US   \n",
       "\n",
       "  date_last_confirmed  ...   open_date owner_type_code  plus4  state  \\\n",
       "0          2019-04-08  ...  2010-12-01               T   None     AL   \n",
       "1          2018-11-08  ...  1994-07-15               P   None     GA   \n",
       "2          2018-10-04  ...  1996-12-15              LG   None     GA   \n",
       "3          2018-05-03  ...  1997-01-01               P   None     GA   \n",
       "4          2018-07-09  ...  1996-12-15               P   None     TX   \n",
       "\n",
       "                                        station_name station_phone  \\\n",
       "0            Alagasco - Montgomery Operations Center          None   \n",
       "1                                PS Energy - Atlanta  770-350-3000   \n",
       "2       Metropolitan Atlanta Rapid Transit Authority          None   \n",
       "3                              United Parcel Service          None   \n",
       "4  Clean Energy - Texas Department of Transportation  866-809-4869   \n",
       "\n",
       "  status_code        street_address            updated_at    zip  \n",
       "0           E      2951 Chestnut St  2019-04-08T17:32:59Z  36107  \n",
       "1           E      340 Whitehall St  2019-01-17T00:33:46Z  30303  \n",
       "2           E   2424 Piedmont Rd NE  2019-01-17T00:33:46Z  30324  \n",
       "3           E  270 Marvin Miller Dr  2019-01-17T00:33:46Z  30336  \n",
       "4           E   7721A Washington St  2019-01-17T00:33:46Z  77007  \n",
       "\n",
       "[5 rows x 46 columns]"
      ]
     },
     "execution_count": 6,
     "metadata": {},
     "output_type": "execute_result"
    }
   ],
   "source": [
    "data = pd.DataFrame(response[\"fuel_stations\"])\n",
    "data.head()"
   ]
  },
  {
   "cell_type": "code",
   "execution_count": 60,
   "metadata": {},
   "outputs": [],
   "source": [
    "data.to_csv(\"../data/fuel-stations.csv\", index=False)"
   ]
  }
 ],
 "metadata": {
  "celltoolbar": "Initialization Cell",
  "kernelspec": {
   "display_name": "Python 3",
   "language": "python",
   "name": "python3"
  },
  "language_info": {
   "codemirror_mode": {
    "name": "ipython",
    "version": 3
   },
   "file_extension": ".py",
   "mimetype": "text/x-python",
   "name": "python",
   "nbconvert_exporter": "python",
   "pygments_lexer": "ipython3",
   "version": "3.6.5"
  },
  "toc": {
   "base_numbering": 1,
   "nav_menu": {
    "height": "255px",
    "width": "257px"
   },
   "number_sections": true,
   "sideBar": true,
   "skip_h1_title": false,
   "title_cell": "Table of Contents",
   "title_sidebar": "Contents",
   "toc_cell": false,
   "toc_position": {},
   "toc_section_display": true,
   "toc_window_display": false
  },
  "varInspector": {
   "cols": {
    "lenName": 16,
    "lenType": 16,
    "lenVar": 40
   },
   "kernels_config": {
    "python": {
     "delete_cmd_postfix": "",
     "delete_cmd_prefix": "del ",
     "library": "var_list.py",
     "varRefreshCmd": "print(var_dic_list())"
    },
    "r": {
     "delete_cmd_postfix": ") ",
     "delete_cmd_prefix": "rm(",
     "library": "var_list.r",
     "varRefreshCmd": "cat(var_dic_list()) "
    }
   },
   "types_to_exclude": [
    "module",
    "function",
    "builtin_function_or_method",
    "instance",
    "_Feature"
   ],
   "window_display": false
  }
 },
 "nbformat": 4,
 "nbformat_minor": 2
}
